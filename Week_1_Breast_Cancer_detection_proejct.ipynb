{
  "nbformat": 4,
  "nbformat_minor": 0,
  "metadata": {
    "colab": {
      "name": "Week 1- Breast Cancer detection proejct.ipynb",
      "provenance": [],
      "collapsed_sections": [],
      "authorship_tag": "ABX9TyOl5kRMhEqadil4dNm4w5zk",
      "include_colab_link": true
    },
    "kernelspec": {
      "name": "python3",
      "display_name": "Python 3"
    }
  },
  "cells": [
    {
      "cell_type": "markdown",
      "metadata": {
        "id": "view-in-github",
        "colab_type": "text"
      },
      "source": [
        "<a href=\"https://colab.research.google.com/github/Rinumounika/Breast-cancer-detection-using-Machine-Learning/blob/Test/Week_1_Breast_Cancer_detection_proejct.ipynb\" target=\"_parent\"><img src=\"https://colab.research.google.com/assets/colab-badge.svg\" alt=\"Open In Colab\"/></a>"
      ]
    },
    {
      "cell_type": "code",
      "metadata": {
        "id": "tlDtO2dYtgq6",
        "colab_type": "code",
        "colab": {
          "base_uri": "https://localhost:8080/",
          "height": 119
        },
        "outputId": "3cc36f09-47b4-4e69-eec4-19ebcec07514"
      },
      "source": [
        "#Q1. Create an array having consecutive natural numbers of size 6x3 and print it.\n",
        "\n",
        "import numpy as np\n",
        "\n",
        "arr1 = np.arange(18).reshape(6, 3)\n",
        "print(\"arr1:{}\".format(arr1))"
      ],
      "execution_count": 2,
      "outputs": [
        {
          "output_type": "stream",
          "text": [
            "arr1:[[ 0  1  2]\n",
            " [ 3  4  5]\n",
            " [ 6  7  8]\n",
            " [ 9 10 11]\n",
            " [12 13 14]\n",
            " [15 16 17]]\n"
          ],
          "name": "stdout"
        }
      ]
    },
    {
      "cell_type": "code",
      "metadata": {
        "id": "d_z2pm1mUYZ1",
        "colab_type": "code",
        "colab": {}
      },
      "source": [
        ""
      ],
      "execution_count": 0,
      "outputs": []
    },
    {
      "cell_type": "code",
      "metadata": {
        "id": "cLb0n7EIwqxQ",
        "colab_type": "code",
        "colab": {}
      },
      "source": [
        "import pandas as pd\n",
        "df=pd.read_csv(r\"/content/sample_data/california_housing_test.csv\")\n",
        "\n",
        "#Q2: Rename alll the coumns in the dataset as per your wish and save it in another dataframe and name it df2\n",
        "df2=df.rename(columns={\"Name\":\"Full_name\",\"Income per month\":\"Monthly_Income\",\"State\":\"State_name\",\"Age\":\"Total_age\",\"Sex\":\"Sex(F/M)\",\"Number of siblings\":\"Total_siblings\"})\n",
        "df2.info()"
      ],
      "execution_count": 0,
      "outputs": []
    },
    {
      "cell_type": "code",
      "metadata": {
        "id": "-ex0J7xbX5nj",
        "colab_type": "code",
        "colab": {}
      },
      "source": [
        "#Q3: After you have created df2, make the same changes in the original dataframe using the inplace\n",
        "df.rename(columns={\"Name\":\"Full_name\",\"Income per month\":\"Monthly_Income\",\"State\":\"State_name\",\"Age\":\"Total_age\",\"Sex\":\"Sex(F/M)\",\"Number of siblings\":\"Total_siblings\"},inplace=True)\n",
        "df"
      ],
      "execution_count": 0,
      "outputs": []
    },
    {
      "cell_type": "code",
      "metadata": {
        "id": "-EhrHmb8ZT9e",
        "colab_type": "code",
        "colab": {}
      },
      "source": [
        "#Q4: Show only the columns information, sex and number of siblings.\n",
        "df[[\"Sex(F/M)\",\"Total_siblings\"]]"
      ],
      "execution_count": 0,
      "outputs": []
    },
    {
      "cell_type": "code",
      "metadata": {
        "id": "X0dwT1hVxHFA",
        "colab_type": "code",
        "colab": {}
      },
      "source": [
        "#Q5: Use iloc method to print data from column 1 to 4 and rows 3 to 9\n",
        "df.iloc[0:3,0:3]"
      ],
      "execution_count": 0,
      "outputs": []
    }
  ]
}