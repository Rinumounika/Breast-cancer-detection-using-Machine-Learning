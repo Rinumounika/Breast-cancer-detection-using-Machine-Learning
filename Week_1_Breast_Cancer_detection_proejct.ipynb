{
  "nbformat": 4,
  "nbformat_minor": 0,
  "metadata": {
    "colab": {
      "name": "Week 1- Breast Cancer detection proejct.ipynb",
      "provenance": [],
      "collapsed_sections": [],
      "authorship_tag": "ABX9TyMwdwD1dT1/BHoz/dYhZeeC",
      "include_colab_link": true
    },
    "kernelspec": {
      "name": "python3",
      "display_name": "Python 3"
    }
  },
  "cells": [
    {
      "cell_type": "markdown",
      "metadata": {
        "id": "view-in-github",
        "colab_type": "text"
      },
      "source": [
        "<a href=\"https://colab.research.google.com/github/Rinumounika/Breast-cancer-detection-using-Machine-Learning/blob/master/Week_1_Breast_Cancer_detection_proejct.ipynb\" target=\"_parent\"><img src=\"https://colab.research.google.com/assets/colab-badge.svg\" alt=\"Open In Colab\"/></a>"
      ]
    },
    {
      "cell_type": "code",
      "metadata": {
        "id": "tlDtO2dYtgq6",
        "colab_type": "code",
        "outputId": "628937ad-9cdf-47d3-b676-e822fc374a62",
        "colab": {
          "base_uri": "https://localhost:8080/",
          "height": 119
        }
      },
      "source": [
        "#Q1. Create an array having consecutive natural numbers of size 6x3 and print it.\n",
        "\n",
        "import numpy as np\n",
        "\n",
        "arr1 = np.arange(18).reshape(6, 3)\n",
        "print(\"arr1:{}\".format(arr1))"
      ],
      "execution_count": 0,
      "outputs": [
        {
          "output_type": "stream",
          "text": [
            "arr1:[[ 0  1  2]\n",
            " [ 3  4  5]\n",
            " [ 6  7  8]\n",
            " [ 9 10 11]\n",
            " [12 13 14]\n",
            " [15 16 17]]\n"
          ],
          "name": "stdout"
        }
      ]
    },
    {
      "cell_type": "code",
      "metadata": {
        "id": "cLb0n7EIwqxQ",
        "colab_type": "code",
        "outputId": "d2536022-0514-417f-95a4-7f6a62d79c35",
        "colab": {
          "base_uri": "https://localhost:8080/",
          "height": 238
        }
      },
      "source": [
        "import pandas as pd\n",
        "df=pd.read_excel(r\"/content/Week 1 Dataset.xlsx\")\n",
        "\n",
        "#Q2: Rename alll the coumns in the dataset as per your wish and save it in another dataframe and name it df2\n",
        "df2=df.rename(columns={\"Name\":\"Full_name\",\"Income per month\":\"Monthly_Income\",\"State\":\"State_name\",\"Age\":\"Total_age\",\"Sex\":\"Sex(F/M)\",\"Number of siblings\":\"Total_siblings\"})\n",
        "df2.info()"
      ],
      "execution_count": 1,
      "outputs": [
        {
          "output_type": "stream",
          "text": [
            "<class 'pandas.core.frame.DataFrame'>\n",
            "RangeIndex: 10 entries, 0 to 9\n",
            "Data columns (total 6 columns):\n",
            " #   Column          Non-Null Count  Dtype \n",
            "---  ------          --------------  ----- \n",
            " 0   Full_name       10 non-null     object\n",
            " 1   Monthly_Income  10 non-null     int64 \n",
            " 2   State_name      10 non-null     object\n",
            " 3   Total_age       10 non-null     int64 \n",
            " 4   Sex(F/M)        10 non-null     object\n",
            " 5   Total_siblings  10 non-null     int64 \n",
            "dtypes: int64(3), object(3)\n",
            "memory usage: 608.0+ bytes\n"
          ],
          "name": "stdout"
        }
      ]
    },
    {
      "cell_type": "code",
      "metadata": {
        "id": "-ex0J7xbX5nj",
        "colab_type": "code",
        "outputId": "4d8da30b-718c-4574-c3cb-5521b522d21b",
        "colab": {
          "base_uri": "https://localhost:8080/",
          "height": 359
        }
      },
      "source": [
        "#Q3: After you have created df2, make the same changes in the original dataframe using the inplace\n",
        "df.rename(columns={\"Name\":\"Full_name\",\"Income per month\":\"Monthly_Income\",\"State\":\"State_name\",\"Age\":\"Total_age\",\"Sex\":\"Sex(F/M)\",\"Number of siblings\":\"Total_siblings\"},inplace=True)\n",
        "df"
      ],
      "execution_count": 0,
      "outputs": [
        {
          "output_type": "execute_result",
          "data": {
            "text/html": [
              "<div>\n",
              "<style scoped>\n",
              "    .dataframe tbody tr th:only-of-type {\n",
              "        vertical-align: middle;\n",
              "    }\n",
              "\n",
              "    .dataframe tbody tr th {\n",
              "        vertical-align: top;\n",
              "    }\n",
              "\n",
              "    .dataframe thead th {\n",
              "        text-align: right;\n",
              "    }\n",
              "</style>\n",
              "<table border=\"1\" class=\"dataframe\">\n",
              "  <thead>\n",
              "    <tr style=\"text-align: right;\">\n",
              "      <th></th>\n",
              "      <th>Full_name</th>\n",
              "      <th>Monthly_Income</th>\n",
              "      <th>State_name</th>\n",
              "      <th>Total_age</th>\n",
              "      <th>Sex(F/M)</th>\n",
              "      <th>Total_siblings</th>\n",
              "    </tr>\n",
              "  </thead>\n",
              "  <tbody>\n",
              "    <tr>\n",
              "      <th>0</th>\n",
              "      <td>A</td>\n",
              "      <td>50</td>\n",
              "      <td>Tamil Nadu</td>\n",
              "      <td>23</td>\n",
              "      <td>M</td>\n",
              "      <td>0</td>\n",
              "    </tr>\n",
              "    <tr>\n",
              "      <th>1</th>\n",
              "      <td>B</td>\n",
              "      <td>34</td>\n",
              "      <td>Karnataka</td>\n",
              "      <td>37</td>\n",
              "      <td>F</td>\n",
              "      <td>3</td>\n",
              "    </tr>\n",
              "    <tr>\n",
              "      <th>2</th>\n",
              "      <td>C</td>\n",
              "      <td>54</td>\n",
              "      <td>Tamil Nadu</td>\n",
              "      <td>35</td>\n",
              "      <td>F</td>\n",
              "      <td>1</td>\n",
              "    </tr>\n",
              "    <tr>\n",
              "      <th>3</th>\n",
              "      <td>D</td>\n",
              "      <td>24</td>\n",
              "      <td>Uttar Pradesh</td>\n",
              "      <td>26</td>\n",
              "      <td>F</td>\n",
              "      <td>4</td>\n",
              "    </tr>\n",
              "    <tr>\n",
              "      <th>4</th>\n",
              "      <td>E</td>\n",
              "      <td>19</td>\n",
              "      <td>Bihar</td>\n",
              "      <td>59</td>\n",
              "      <td>M</td>\n",
              "      <td>5</td>\n",
              "    </tr>\n",
              "    <tr>\n",
              "      <th>5</th>\n",
              "      <td>F</td>\n",
              "      <td>21</td>\n",
              "      <td>Bihar</td>\n",
              "      <td>48</td>\n",
              "      <td>M</td>\n",
              "      <td>6</td>\n",
              "    </tr>\n",
              "    <tr>\n",
              "      <th>6</th>\n",
              "      <td>G</td>\n",
              "      <td>40</td>\n",
              "      <td>Delhi</td>\n",
              "      <td>30</td>\n",
              "      <td>F</td>\n",
              "      <td>2</td>\n",
              "    </tr>\n",
              "    <tr>\n",
              "      <th>7</th>\n",
              "      <td>H</td>\n",
              "      <td>20</td>\n",
              "      <td>Uttar Pradesh</td>\n",
              "      <td>72</td>\n",
              "      <td>M</td>\n",
              "      <td>10</td>\n",
              "    </tr>\n",
              "    <tr>\n",
              "      <th>8</th>\n",
              "      <td>I</td>\n",
              "      <td>30</td>\n",
              "      <td>Telangana</td>\n",
              "      <td>22</td>\n",
              "      <td>F</td>\n",
              "      <td>0</td>\n",
              "    </tr>\n",
              "    <tr>\n",
              "      <th>9</th>\n",
              "      <td>J</td>\n",
              "      <td>18</td>\n",
              "      <td>Chattisgarh</td>\n",
              "      <td>42</td>\n",
              "      <td>M</td>\n",
              "      <td>7</td>\n",
              "    </tr>\n",
              "  </tbody>\n",
              "</table>\n",
              "</div>"
            ],
            "text/plain": [
              "  Full_name  Monthly_Income     State_name  Total_age Sex(F/M)  Total_siblings\n",
              "0         A              50     Tamil Nadu         23        M               0\n",
              "1         B              34      Karnataka         37        F               3\n",
              "2         C              54     Tamil Nadu         35        F               1\n",
              "3         D              24  Uttar Pradesh         26        F               4\n",
              "4         E              19          Bihar         59        M               5\n",
              "5         F              21          Bihar         48        M               6\n",
              "6         G              40          Delhi         30        F               2\n",
              "7         H              20  Uttar Pradesh         72        M              10\n",
              "8         I              30      Telangana         22        F               0\n",
              "9         J              18    Chattisgarh         42        M               7"
            ]
          },
          "metadata": {
            "tags": []
          },
          "execution_count": 8
        }
      ]
    },
    {
      "cell_type": "code",
      "metadata": {
        "id": "-EhrHmb8ZT9e",
        "colab_type": "code",
        "outputId": "51780461-4316-4501-95d4-c1103d6ccbd1",
        "colab": {
          "base_uri": "https://localhost:8080/",
          "height": 359
        }
      },
      "source": [
        "#Q4: Show only the columns information, sex and number of siblings.\n",
        "df[[\"Sex(F/M)\",\"Total_siblings\"]]"
      ],
      "execution_count": 0,
      "outputs": [
        {
          "output_type": "execute_result",
          "data": {
            "text/html": [
              "<div>\n",
              "<style scoped>\n",
              "    .dataframe tbody tr th:only-of-type {\n",
              "        vertical-align: middle;\n",
              "    }\n",
              "\n",
              "    .dataframe tbody tr th {\n",
              "        vertical-align: top;\n",
              "    }\n",
              "\n",
              "    .dataframe thead th {\n",
              "        text-align: right;\n",
              "    }\n",
              "</style>\n",
              "<table border=\"1\" class=\"dataframe\">\n",
              "  <thead>\n",
              "    <tr style=\"text-align: right;\">\n",
              "      <th></th>\n",
              "      <th>Sex(F/M)</th>\n",
              "      <th>Total_siblings</th>\n",
              "    </tr>\n",
              "  </thead>\n",
              "  <tbody>\n",
              "    <tr>\n",
              "      <th>0</th>\n",
              "      <td>M</td>\n",
              "      <td>0</td>\n",
              "    </tr>\n",
              "    <tr>\n",
              "      <th>1</th>\n",
              "      <td>F</td>\n",
              "      <td>3</td>\n",
              "    </tr>\n",
              "    <tr>\n",
              "      <th>2</th>\n",
              "      <td>F</td>\n",
              "      <td>1</td>\n",
              "    </tr>\n",
              "    <tr>\n",
              "      <th>3</th>\n",
              "      <td>F</td>\n",
              "      <td>4</td>\n",
              "    </tr>\n",
              "    <tr>\n",
              "      <th>4</th>\n",
              "      <td>M</td>\n",
              "      <td>5</td>\n",
              "    </tr>\n",
              "    <tr>\n",
              "      <th>5</th>\n",
              "      <td>M</td>\n",
              "      <td>6</td>\n",
              "    </tr>\n",
              "    <tr>\n",
              "      <th>6</th>\n",
              "      <td>F</td>\n",
              "      <td>2</td>\n",
              "    </tr>\n",
              "    <tr>\n",
              "      <th>7</th>\n",
              "      <td>M</td>\n",
              "      <td>10</td>\n",
              "    </tr>\n",
              "    <tr>\n",
              "      <th>8</th>\n",
              "      <td>F</td>\n",
              "      <td>0</td>\n",
              "    </tr>\n",
              "    <tr>\n",
              "      <th>9</th>\n",
              "      <td>M</td>\n",
              "      <td>7</td>\n",
              "    </tr>\n",
              "  </tbody>\n",
              "</table>\n",
              "</div>"
            ],
            "text/plain": [
              "  Sex(F/M)  Total_siblings\n",
              "0        M               0\n",
              "1        F               3\n",
              "2        F               1\n",
              "3        F               4\n",
              "4        M               5\n",
              "5        M               6\n",
              "6        F               2\n",
              "7        M              10\n",
              "8        F               0\n",
              "9        M               7"
            ]
          },
          "metadata": {
            "tags": []
          },
          "execution_count": 9
        }
      ]
    },
    {
      "cell_type": "code",
      "metadata": {
        "id": "X0dwT1hVxHFA",
        "colab_type": "code",
        "outputId": "069e5e99-0068-4ae7-e93a-59398fbbcd0e",
        "colab": {
          "base_uri": "https://localhost:8080/",
          "height": 266
        }
      },
      "source": [
        "#Q5: Use iloc method to print data from column 1 to 4 and rows 3 to 9\n",
        "df.iloc[3:10,0:4]"
      ],
      "execution_count": 0,
      "outputs": [
        {
          "output_type": "execute_result",
          "data": {
            "text/html": [
              "<div>\n",
              "<style scoped>\n",
              "    .dataframe tbody tr th:only-of-type {\n",
              "        vertical-align: middle;\n",
              "    }\n",
              "\n",
              "    .dataframe tbody tr th {\n",
              "        vertical-align: top;\n",
              "    }\n",
              "\n",
              "    .dataframe thead th {\n",
              "        text-align: right;\n",
              "    }\n",
              "</style>\n",
              "<table border=\"1\" class=\"dataframe\">\n",
              "  <thead>\n",
              "    <tr style=\"text-align: right;\">\n",
              "      <th></th>\n",
              "      <th>Full_name</th>\n",
              "      <th>Monthly_Income</th>\n",
              "      <th>State_name</th>\n",
              "      <th>Total_age</th>\n",
              "    </tr>\n",
              "  </thead>\n",
              "  <tbody>\n",
              "    <tr>\n",
              "      <th>3</th>\n",
              "      <td>D</td>\n",
              "      <td>24</td>\n",
              "      <td>Uttar Pradesh</td>\n",
              "      <td>26</td>\n",
              "    </tr>\n",
              "    <tr>\n",
              "      <th>4</th>\n",
              "      <td>E</td>\n",
              "      <td>19</td>\n",
              "      <td>Bihar</td>\n",
              "      <td>59</td>\n",
              "    </tr>\n",
              "    <tr>\n",
              "      <th>5</th>\n",
              "      <td>F</td>\n",
              "      <td>21</td>\n",
              "      <td>Bihar</td>\n",
              "      <td>48</td>\n",
              "    </tr>\n",
              "    <tr>\n",
              "      <th>6</th>\n",
              "      <td>G</td>\n",
              "      <td>40</td>\n",
              "      <td>Delhi</td>\n",
              "      <td>30</td>\n",
              "    </tr>\n",
              "    <tr>\n",
              "      <th>7</th>\n",
              "      <td>H</td>\n",
              "      <td>20</td>\n",
              "      <td>Uttar Pradesh</td>\n",
              "      <td>72</td>\n",
              "    </tr>\n",
              "    <tr>\n",
              "      <th>8</th>\n",
              "      <td>I</td>\n",
              "      <td>30</td>\n",
              "      <td>Telangana</td>\n",
              "      <td>22</td>\n",
              "    </tr>\n",
              "    <tr>\n",
              "      <th>9</th>\n",
              "      <td>J</td>\n",
              "      <td>18</td>\n",
              "      <td>Chattisgarh</td>\n",
              "      <td>42</td>\n",
              "    </tr>\n",
              "  </tbody>\n",
              "</table>\n",
              "</div>"
            ],
            "text/plain": [
              "  Full_name  Monthly_Income     State_name  Total_age\n",
              "3         D              24  Uttar Pradesh         26\n",
              "4         E              19          Bihar         59\n",
              "5         F              21          Bihar         48\n",
              "6         G              40          Delhi         30\n",
              "7         H              20  Uttar Pradesh         72\n",
              "8         I              30      Telangana         22\n",
              "9         J              18    Chattisgarh         42"
            ]
          },
          "metadata": {
            "tags": []
          },
          "execution_count": 10
        }
      ]
    },
    {
      "cell_type": "code",
      "metadata": {
        "id": "Hc9rX0EjR-FQ",
        "colab_type": "code",
        "outputId": "82ddf553-0f31-43bc-de1e-754137475d09",
        "colab": {
          "base_uri": "https://localhost:8080/",
          "height": 187
        }
      },
      "source": [
        "#Q6: Find the total value count of number of siblings in the given dataset\n",
        "#df[\"Total_siblings\"].count()\n",
        "df[\"Total_siblings\"].value_counts()"
      ],
      "execution_count": 0,
      "outputs": [
        {
          "output_type": "execute_result",
          "data": {
            "text/plain": [
              "0     2\n",
              "10    1\n",
              "7     1\n",
              "6     1\n",
              "5     1\n",
              "4     1\n",
              "3     1\n",
              "2     1\n",
              "1     1\n",
              "Name: Total_siblings, dtype: int64"
            ]
          },
          "metadata": {
            "tags": []
          },
          "execution_count": 17
        }
      ]
    },
    {
      "cell_type": "markdown",
      "metadata": {
        "id": "r03O59LEOvEI",
        "colab_type": "text"
      },
      "source": [
        "#Q7: What are dependent and independent varibles in our dataset?\n",
        "Independent variables: Monthly_Income,Total_age\t\n",
        "Dependent variables:Total_siblings"
      ]
    },
    {
      "cell_type": "markdown",
      "metadata": {
        "id": "7kt0Zr1QO7eN",
        "colab_type": "text"
      },
      "source": [
        "Q8: Mention all your finding from the above given heatmap.\n",
        "\n",
        "From the given heatmap, we have conclude that age and Number of siblings are strongly correlated which tends to increase in age increases no of siblings. Income per moth and number of siblings are most weakly correlated so increase in income per month decreases number of siblings. Even age and income per month are weakly correlated."
      ]
    }
  ]
}